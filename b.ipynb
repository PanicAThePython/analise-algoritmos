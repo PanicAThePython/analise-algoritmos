import time
start = time.time()
print("Tempo inicial:"+str(start))

def matrixGenerator(n, W):
    matrix = []
    for i in range(n):
        matrix.append([])
        for j in range(W):
            matrix[i].append(" ")
    return matrix

def bottomUp(n, v, w, W):
    matrix = matrixGenerator(n, W)
    for x in range(W):
        matrix[0][x] = 0
    for j in range(n):
        matrix[j][0] = 0
    for j in range(1, n):
        for x in range(W):
            if w[j-1] > x:
                matrix[j][x] = matrix[j-1][x]
            else:
                use = v[j-1] + matrix[j-1][x-w[j-1]]
                dontUse = matrix[j-1][x]
                matrix[j][x] = max(use, dontUse)

    return matrix

def printMatriz(matrix):
    for i in matrix:
        print(i)

weights = [2, 3, 6]
values = [3, 6, 9]
printMatriz(bottomUp(4, values, weights, 11))

end = time.time()
print("Tempo final:"+str(end))
print("Tempo de execução:" + str(end - start)) 